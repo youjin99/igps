{
 "cells": [
  {
   "cell_type": "code",
   "execution_count": 21,
   "metadata": {},
   "outputs": [],
   "source": [
    "import numpy as np\n",
    "\n",
    "class LinearRegression(object):\n",
    "    def __init__(self, fit_intercept=True, copy_X=True):\n",
    "        self.fit_intercept = fit_intercept #절편값\n",
    "        self.copy_X = copy_X #기존의 X값 copy\n",
    "        \n",
    "        self._coef = None\n",
    "        self._intercept = None\n",
    "        self._new_X = None\n",
    "        \n",
    "    def fit(self, X, y):\n",
    "        self._new_X = np.array(X)\n",
    "        y = y.reshape(-1,1)\n",
    "        \n",
    "        if self.fit_intercept:\n",
    "            intercept_vector = np.ones([len(self._new_X),1])\n",
    "            self._new_X = np.concatenate((intercept_vector, self._new_X),axis=1)\n",
    "            \n",
    "        weights = np.linalg.inv(self._new_X.T.dot(self._new_X)).dot(self._new_X.T.dot(y)).flatten()\n",
    "        \n",
    "        if self.fit_intercept:\n",
    "            self._intercept = weights[0]\n",
    "            self._coef = weights[1:]\n",
    "        else:\n",
    "            self._coef = weights\n",
    "    \n",
    "    def predict(self, X):\n",
    "        test_X = np.array(X)\n",
    "        \n",
    "        if self.fit_intercept:\n",
    "            intercept_vector = np.ones([len(test_X),1])\n",
    "            test_X = np.concatenate((intercept_vector, test_X),axis=1)\n",
    "            \n",
    "            weights = np.concatenate(([self._intercept], self._coef),axis=0)\n",
    "        else:\n",
    "            weights = self._coef\n",
    "        return test_X.dot(weights)\n",
    "               \n",
    "    @property\n",
    "    def coef(self):\n",
    "        return self._coef\n",
    "    \n",
    "    @property\n",
    "    def intercept(self):\n",
    "        return self._intercept"
   ]
  },
  {
   "cell_type": "code",
   "execution_count": 22,
   "metadata": {},
   "outputs": [],
   "source": [
    "import pandas as pd\n",
    "import numpy as np"
   ]
  },
  {
   "cell_type": "markdown",
   "metadata": {},
   "source": [
    "## Load Dataset - simple variable"
   ]
  },
  {
   "cell_type": "code",
   "execution_count": 23,
   "metadata": {},
   "outputs": [
    {
     "data": {
      "text/html": [
       "<div>\n",
       "<style scoped>\n",
       "    .dataframe tbody tr th:only-of-type {\n",
       "        vertical-align: middle;\n",
       "    }\n",
       "\n",
       "    .dataframe tbody tr th {\n",
       "        vertical-align: top;\n",
       "    }\n",
       "\n",
       "    .dataframe thead th {\n",
       "        text-align: right;\n",
       "    }\n",
       "</style>\n",
       "<table border=\"1\" class=\"dataframe\">\n",
       "  <thead>\n",
       "    <tr style=\"text-align: right;\">\n",
       "      <th></th>\n",
       "      <th>x</th>\n",
       "      <th>y</th>\n",
       "    </tr>\n",
       "  </thead>\n",
       "  <tbody>\n",
       "    <tr>\n",
       "      <td>0</td>\n",
       "      <td>77</td>\n",
       "      <td>79.775152</td>\n",
       "    </tr>\n",
       "    <tr>\n",
       "      <td>1</td>\n",
       "      <td>21</td>\n",
       "      <td>23.177279</td>\n",
       "    </tr>\n",
       "    <tr>\n",
       "      <td>2</td>\n",
       "      <td>22</td>\n",
       "      <td>25.609262</td>\n",
       "    </tr>\n",
       "    <tr>\n",
       "      <td>3</td>\n",
       "      <td>20</td>\n",
       "      <td>17.857388</td>\n",
       "    </tr>\n",
       "    <tr>\n",
       "      <td>4</td>\n",
       "      <td>36</td>\n",
       "      <td>41.849864</td>\n",
       "    </tr>\n",
       "  </tbody>\n",
       "</table>\n",
       "</div>"
      ],
      "text/plain": [
       "    x          y\n",
       "0  77  79.775152\n",
       "1  21  23.177279\n",
       "2  22  25.609262\n",
       "3  20  17.857388\n",
       "4  36  41.849864"
      ]
     },
     "execution_count": 23,
     "metadata": {},
     "output_type": "execute_result"
    }
   ],
   "source": [
    "df = pd.read_csv(\"C:/Users/qual9/test.csv\")\n",
    "df.head()"
   ]
  },
  {
   "cell_type": "code",
   "execution_count": 24,
   "metadata": {},
   "outputs": [
    {
     "data": {
      "text/plain": [
       "array([[ 77],\n",
       "       [ 21],\n",
       "       [ 22],\n",
       "       [ 20],\n",
       "       [ 36],\n",
       "       [ 15],\n",
       "       [ 62],\n",
       "       [ 95],\n",
       "       [ 20],\n",
       "       [  5],\n",
       "       [  4],\n",
       "       [ 19],\n",
       "       [ 96],\n",
       "       [ 62],\n",
       "       [ 36],\n",
       "       [ 15],\n",
       "       [ 65],\n",
       "       [ 14],\n",
       "       [ 87],\n",
       "       [ 69],\n",
       "       [ 89],\n",
       "       [ 51],\n",
       "       [ 89],\n",
       "       [ 27],\n",
       "       [ 97],\n",
       "       [ 58],\n",
       "       [ 79],\n",
       "       [ 21],\n",
       "       [ 93],\n",
       "       [ 27],\n",
       "       [ 99],\n",
       "       [ 31],\n",
       "       [ 33],\n",
       "       [ 80],\n",
       "       [ 28],\n",
       "       [ 47],\n",
       "       [ 53],\n",
       "       [ 69],\n",
       "       [ 28],\n",
       "       [ 33],\n",
       "       [ 91],\n",
       "       [ 71],\n",
       "       [ 50],\n",
       "       [ 76],\n",
       "       [  4],\n",
       "       [ 37],\n",
       "       [ 70],\n",
       "       [ 68],\n",
       "       [ 40],\n",
       "       [ 35],\n",
       "       [ 94],\n",
       "       [ 88],\n",
       "       [ 52],\n",
       "       [ 31],\n",
       "       [ 59],\n",
       "       [  0],\n",
       "       [ 39],\n",
       "       [ 64],\n",
       "       [ 69],\n",
       "       [ 57],\n",
       "       [ 13],\n",
       "       [ 72],\n",
       "       [ 76],\n",
       "       [ 61],\n",
       "       [ 82],\n",
       "       [ 18],\n",
       "       [ 41],\n",
       "       [ 50],\n",
       "       [ 55],\n",
       "       [ 13],\n",
       "       [ 46],\n",
       "       [ 13],\n",
       "       [ 79],\n",
       "       [ 53],\n",
       "       [ 15],\n",
       "       [ 28],\n",
       "       [ 81],\n",
       "       [ 69],\n",
       "       [ 52],\n",
       "       [ 84],\n",
       "       [ 68],\n",
       "       [ 27],\n",
       "       [ 56],\n",
       "       [ 48],\n",
       "       [ 40],\n",
       "       [ 39],\n",
       "       [ 82],\n",
       "       [100],\n",
       "       [ 59],\n",
       "       [ 43],\n",
       "       [ 67],\n",
       "       [ 38],\n",
       "       [ 63],\n",
       "       [ 91],\n",
       "       [ 60],\n",
       "       [ 14],\n",
       "       [ 21],\n",
       "       [ 87],\n",
       "       [ 73],\n",
       "       [ 32],\n",
       "       [  2],\n",
       "       [ 82],\n",
       "       [ 19],\n",
       "       [ 74],\n",
       "       [ 42],\n",
       "       [ 12],\n",
       "       [  1],\n",
       "       [ 90],\n",
       "       [ 89],\n",
       "       [  0],\n",
       "       [ 41],\n",
       "       [ 16],\n",
       "       [ 94],\n",
       "       [ 97],\n",
       "       [ 66],\n",
       "       [ 24],\n",
       "       [ 17],\n",
       "       [ 90],\n",
       "       [ 13],\n",
       "       [  0],\n",
       "       [ 64],\n",
       "       [ 96],\n",
       "       [ 98],\n",
       "       [ 12],\n",
       "       [ 41],\n",
       "       [ 47],\n",
       "       [ 78],\n",
       "       [ 20],\n",
       "       [ 89],\n",
       "       [ 29],\n",
       "       [ 64],\n",
       "       [ 75],\n",
       "       [ 12],\n",
       "       [ 25],\n",
       "       [ 28],\n",
       "       [ 30],\n",
       "       [ 65],\n",
       "       [ 59],\n",
       "       [ 64],\n",
       "       [ 53],\n",
       "       [ 71],\n",
       "       [ 97],\n",
       "       [ 73],\n",
       "       [  9],\n",
       "       [ 12],\n",
       "       [ 63],\n",
       "       [ 99],\n",
       "       [ 60],\n",
       "       [ 35],\n",
       "       [  2],\n",
       "       [ 60],\n",
       "       [ 32],\n",
       "       [ 94],\n",
       "       [ 84],\n",
       "       [ 63],\n",
       "       [ 22],\n",
       "       [ 81],\n",
       "       [ 93],\n",
       "       [ 33],\n",
       "       [  7],\n",
       "       [ 42],\n",
       "       [ 46],\n",
       "       [ 54],\n",
       "       [ 16],\n",
       "       [ 49],\n",
       "       [ 43],\n",
       "       [ 95],\n",
       "       [ 66],\n",
       "       [ 21],\n",
       "       [ 35],\n",
       "       [ 80],\n",
       "       [ 37],\n",
       "       [ 54],\n",
       "       [ 56],\n",
       "       [  1],\n",
       "       [ 32],\n",
       "       [ 58],\n",
       "       [ 32],\n",
       "       [ 46],\n",
       "       [ 72],\n",
       "       [ 17],\n",
       "       [ 97],\n",
       "       [ 93],\n",
       "       [ 91],\n",
       "       [ 37],\n",
       "       [  4],\n",
       "       [ 54],\n",
       "       [ 51],\n",
       "       [ 27],\n",
       "       [ 46],\n",
       "       [ 92],\n",
       "       [ 73],\n",
       "       [ 77],\n",
       "       [ 91],\n",
       "       [ 61],\n",
       "       [ 99],\n",
       "       [  4],\n",
       "       [ 72],\n",
       "       [ 19],\n",
       "       [ 57],\n",
       "       [ 78],\n",
       "       [ 26],\n",
       "       [ 74],\n",
       "       [ 90],\n",
       "       [ 66],\n",
       "       [ 13],\n",
       "       [ 40],\n",
       "       [ 77],\n",
       "       [ 67],\n",
       "       [ 75],\n",
       "       [ 23],\n",
       "       [ 45],\n",
       "       [ 59],\n",
       "       [ 44],\n",
       "       [ 23],\n",
       "       [ 55],\n",
       "       [ 55],\n",
       "       [ 95],\n",
       "       [ 12],\n",
       "       [  4],\n",
       "       [  7],\n",
       "       [100],\n",
       "       [ 48],\n",
       "       [ 42],\n",
       "       [ 96],\n",
       "       [ 39],\n",
       "       [100],\n",
       "       [ 87],\n",
       "       [ 14],\n",
       "       [ 14],\n",
       "       [ 37],\n",
       "       [  5],\n",
       "       [ 88],\n",
       "       [ 91],\n",
       "       [ 65],\n",
       "       [ 74],\n",
       "       [ 56],\n",
       "       [ 16],\n",
       "       [  5],\n",
       "       [ 28],\n",
       "       [ 92],\n",
       "       [ 46],\n",
       "       [ 54],\n",
       "       [ 39],\n",
       "       [ 44],\n",
       "       [ 31],\n",
       "       [ 68],\n",
       "       [ 86],\n",
       "       [ 90],\n",
       "       [ 38],\n",
       "       [ 21],\n",
       "       [ 95],\n",
       "       [ 56],\n",
       "       [ 60],\n",
       "       [ 65],\n",
       "       [ 78],\n",
       "       [ 89],\n",
       "       [  6],\n",
       "       [ 67],\n",
       "       [ 36],\n",
       "       [ 16],\n",
       "       [100],\n",
       "       [ 45],\n",
       "       [ 73],\n",
       "       [ 57],\n",
       "       [ 20],\n",
       "       [ 76],\n",
       "       [ 34],\n",
       "       [ 55],\n",
       "       [ 72],\n",
       "       [ 55],\n",
       "       [  8],\n",
       "       [ 56],\n",
       "       [ 72],\n",
       "       [ 58],\n",
       "       [  6],\n",
       "       [ 96],\n",
       "       [ 23],\n",
       "       [ 58],\n",
       "       [ 23],\n",
       "       [ 19],\n",
       "       [ 25],\n",
       "       [ 64],\n",
       "       [ 21],\n",
       "       [ 59],\n",
       "       [ 19],\n",
       "       [ 16],\n",
       "       [ 42],\n",
       "       [ 43],\n",
       "       [ 61],\n",
       "       [ 92],\n",
       "       [ 11],\n",
       "       [ 41],\n",
       "       [  1],\n",
       "       [  8],\n",
       "       [ 71],\n",
       "       [ 46],\n",
       "       [ 55],\n",
       "       [ 62],\n",
       "       [ 47]], dtype=int64)"
      ]
     },
     "execution_count": 24,
     "metadata": {},
     "output_type": "execute_result"
    }
   ],
   "source": [
    "X = df[\"x\"].values.reshape(-1,1)\n",
    "X"
   ]
  },
  {
   "cell_type": "code",
   "execution_count": 25,
   "metadata": {
    "scrolled": true
   },
   "outputs": [
    {
     "data": {
      "text/plain": [
       "array([ 79.77515201,  23.17727887,  25.60926156,  17.85738813,\n",
       "        41.84986439,   9.80523488,  58.87465933,  97.61793701,\n",
       "        18.39512747,   8.74674765,   2.81141583,  17.09537241,\n",
       "        95.14907176,  61.38800663,  40.24701716,  14.82248589,\n",
       "        66.95806869,  16.63507984,  90.65513736,  77.22982636,\n",
       "        92.11906278,  46.91387709,  89.82634442,  21.71380347,\n",
       "        97.41206981,  57.01631363,  78.31056542,  19.1315097 ,\n",
       "        93.03483388,  26.59112396,  97.55155344,  31.43524822,\n",
       "        35.12724777,  78.61042432,  33.07112825,  51.69967172,\n",
       "        53.62235225,  69.46306072,  27.42497237,  36.34644189,\n",
       "        95.06140858,  68.16724757,  50.96155532,  78.04237454,\n",
       "         5.60766487,  36.11334779,  67.2352155 ,  65.01324035,\n",
       "        38.14753871,  34.31141446,  95.28503937,  87.84749912,\n",
       "        54.08170635,  31.93063515,  59.61247085,  -1.04011421,\n",
       "        47.49374765,  62.60089773,  70.9146434 ,  56.14834113,\n",
       "        14.05572877,  68.11367147,  75.59701346,  59.225745  ,\n",
       "        85.45504157,  17.76197116,  38.68888682,  50.96343637,\n",
       "        51.83503872,  17.0761107 ,  46.56141773,  10.34754461,\n",
       "        77.91032969,  50.17008622,  13.25690647,  31.32274932,\n",
       "        73.9308764 ,  74.45114379,  52.01932286,  83.68820499,\n",
       "        70.3698748 ,  23.44479161,  49.83051801,  49.88226593,\n",
       "        41.04525583,  33.37834391,  81.29750133, 105.5918375 ,\n",
       "        56.82457013,  48.67252645,  67.02150613,  38.43076389,\n",
       "        58.61466887,  89.12377509,  60.9105427 ,  13.83959878,\n",
       "        16.89085185,  84.06676818,  70.34969772,  33.38474138,\n",
       "        -1.63296825,  88.54475895,  17.44047622,  75.69298554,\n",
       "        41.97607107,  12.59244741,   0.27530726,  98.13258005,\n",
       "        87.45721555,  -2.34473854,  39.3294153 ,  16.68715211,\n",
       "        96.58888601,  97.70342201,  67.01715955,  25.63476257,\n",
       "        13.41310757,  95.15647284,   9.74416426,  -3.46788379,\n",
       "        62.82816355,  97.27405461,  95.58017185,   7.46850184,\n",
       "        45.44599591,  46.69013968,  74.4993599 ,  21.63500655,\n",
       "        91.59548851,  26.49487961,  67.38654703,  74.25362837,\n",
       "        12.07991648,  21.32273728,  29.31770045,  26.48713683,\n",
       "        68.94699774,  59.10598995,  64.37521087,  60.20758349,\n",
       "        70.34329706,  97.1082562 ,  75.7584178 ,  10.80462727,\n",
       "        12.11219941,  63.28312382,  98.03017721,  63.19354354,\n",
       "        34.8534823 ,  -2.81991397,  59.8313966 ,  29.38505024,\n",
       "        97.00148372,  85.18657275,  61.74063192,  18.84798163,\n",
       "        78.79008525,  95.12400481,  30.48881287,  10.41468095,\n",
       "        38.98317436,  46.11021062,  52.45103628,  21.16523945,\n",
       "        52.28620611,  44.18863945,  97.13832018,  67.22008001,\n",
       "        18.98322306,  24.3884599 ,  79.44769523,  40.03504862,\n",
       "        53.32005764,  54.55446979,  -2.7611826 ,  37.80182795,\n",
       "        57.48741435,  36.06292994,  49.83538167,  74.68953276,\n",
       "        14.86159401, 101.0697879 ,  99.43577876,  91.69240746,\n",
       "        34.12473248,   6.07939007,  59.07247174,  56.43046022,\n",
       "        30.49412933,  48.35172635,  89.73153611,  72.86282528,\n",
       "        80.97144285,  91.36566374,  60.07137496,  99.87382707,\n",
       "         8.65571417,  69.39858505,  19.38780134,  53.11628433,\n",
       "        78.39683006,  25.75612514,  75.07484683,  92.88772282,\n",
       "        69.45498498,  13.12109842,  48.09843134,  79.3142548 ,\n",
       "        68.48820749,  73.2300846 ,  24.68362712,  41.90368917,\n",
       "        62.22635684,  45.96396877,  23.52647153,  51.80035866,\n",
       "        51.10774273,  95.79747345,   9.24113898,   7.64652976,\n",
       "         9.28169975, 103.5266162 ,  47.41006725,  42.03835773,\n",
       "        96.11982476,  38.05766408, 105.4503788 ,  88.80306911,\n",
       "        15.49301141,  12.42624606,  40.00709598,   5.6340309 ,\n",
       "        87.36938931,  89.73951993,  66.61499643,  72.9138853 ,\n",
       "        57.19103506,  11.21710477,   0.67607675,  28.15668543,\n",
       "        95.3958003 ,  52.05490703,  59.70864577,  36.79224762,\n",
       "        37.08457698,  24.18437976,  67.28725332,  82.870594  ,\n",
       "        89.899991  ,  36.94173178,  19.87562242,  90.71481654,\n",
       "        61.09367762,  60.11134958,  64.83296316,  81.40381769,\n",
       "        92.40217686,   2.57662538,  63.80768172,  38.67780759,\n",
       "        16.82839701,  99.78687252,  44.68913433,  71.00377824,\n",
       "        51.57326718,  19.87846479,  79.50341495,  34.58876491,\n",
       "        55.7383467 ,  68.19721905,  55.81628509,   9.3914168 ,\n",
       "        56.01448111,  77.9969477 ,  55.37049953,  11.89457829,\n",
       "        94.79081712,  25.69041546,  53.52042319,  18.31396758,\n",
       "        21.42637785,  30.41303282,  67.68142149,  17.0854783 ,\n",
       "        60.91792707,  14.99514319,  16.74923937,  41.46923883,\n",
       "        42.84526108,  59.12912974,  91.30863673,   8.67333636,\n",
       "        39.31485292,   5.3136862 ,   5.40522052,  68.5458879 ,\n",
       "        47.33487629,  54.09063686,  63.29717058,  52.45946688])"
      ]
     },
     "execution_count": 25,
     "metadata": {},
     "output_type": "execute_result"
    }
   ],
   "source": [
    "y = df[\"y\"].values\n",
    "y"
   ]
  },
  {
   "cell_type": "markdown",
   "metadata": {},
   "source": [
    "## Build Model"
   ]
  },
  {
   "cell_type": "code",
   "execution_count": 26,
   "metadata": {},
   "outputs": [],
   "source": [
    "lr = LinearRegression(fit_intercept=True)"
   ]
  },
  {
   "cell_type": "code",
   "execution_count": 27,
   "metadata": {},
   "outputs": [],
   "source": [
    "lr.fit(X,y)"
   ]
  },
  {
   "cell_type": "code",
   "execution_count": 28,
   "metadata": {},
   "outputs": [
    {
     "data": {
      "text/plain": [
       "-0.46181077366111367"
      ]
     },
     "execution_count": 28,
     "metadata": {},
     "output_type": "execute_result"
    }
   ],
   "source": [
    "lr.intercept"
   ]
  },
  {
   "cell_type": "code",
   "execution_count": 29,
   "metadata": {},
   "outputs": [
    {
     "data": {
      "text/plain": [
       "array([1.01433536])"
      ]
     },
     "execution_count": 29,
     "metadata": {},
     "output_type": "execute_result"
    }
   ],
   "source": [
    "lr.coef"
   ]
  },
  {
   "cell_type": "code",
   "execution_count": 30,
   "metadata": {},
   "outputs": [
    {
     "data": {
      "text/plain": [
       "array([77.64201157, 20.83923168, 21.85356704, 19.82489633, 36.05426201,\n",
       "       14.75321955, 62.42698124, 95.90004796, 19.82489633,  4.609866  ])"
      ]
     },
     "execution_count": 30,
     "metadata": {},
     "output_type": "execute_result"
    }
   ],
   "source": [
    "lr.predict(X)[:10]"
   ]
  },
  {
   "cell_type": "markdown",
   "metadata": {},
   "source": [
    "## Validation"
   ]
  },
  {
   "cell_type": "code",
   "execution_count": 32,
   "metadata": {},
   "outputs": [
    {
     "data": {
      "text/plain": [
       "LinearRegression(copy_X=True, fit_intercept=True, n_jobs=None, normalize=False)"
      ]
     },
     "execution_count": 32,
     "metadata": {},
     "output_type": "execute_result"
    }
   ],
   "source": [
    "from sklearn import linear_model\n",
    "sk_lr = linear_model.LinearRegression(normalize=False)\n",
    "sk_lr.fit(X,y)"
   ]
  },
  {
   "cell_type": "code",
   "execution_count": 33,
   "metadata": {},
   "outputs": [
    {
     "data": {
      "text/plain": [
       "-0.4618107736611776"
      ]
     },
     "execution_count": 33,
     "metadata": {},
     "output_type": "execute_result"
    }
   ],
   "source": [
    "sk_lr.intercept_"
   ]
  },
  {
   "cell_type": "code",
   "execution_count": 34,
   "metadata": {},
   "outputs": [],
   "source": [
    "import numpy.testing as npt\n",
    "npt.assert_almost_equal(sk_lr.intercept_,lr.intercept)"
   ]
  },
  {
   "cell_type": "code",
   "execution_count": 35,
   "metadata": {},
   "outputs": [
    {
     "data": {
      "text/plain": [
       "array([1.01433536])"
      ]
     },
     "execution_count": 35,
     "metadata": {},
     "output_type": "execute_result"
    }
   ],
   "source": [
    "sk_lr.coef_"
   ]
  },
  {
   "cell_type": "markdown",
   "metadata": {},
   "source": [
    "## Load Dataset - multiple variables"
   ]
  },
  {
   "cell_type": "code",
   "execution_count": 38,
   "metadata": {},
   "outputs": [
    {
     "data": {
      "text/html": [
       "<div>\n",
       "<style scoped>\n",
       "    .dataframe tbody tr th:only-of-type {\n",
       "        vertical-align: middle;\n",
       "    }\n",
       "\n",
       "    .dataframe tbody tr th {\n",
       "        vertical-align: top;\n",
       "    }\n",
       "\n",
       "    .dataframe thead th {\n",
       "        text-align: right;\n",
       "    }\n",
       "</style>\n",
       "<table border=\"1\" class=\"dataframe\">\n",
       "  <thead>\n",
       "    <tr style=\"text-align: right;\">\n",
       "      <th></th>\n",
       "      <th>height_in_feet</th>\n",
       "      <th>weight_in_pounds</th>\n",
       "      <th>successful_field_goals</th>\n",
       "      <th>percent_of_successful_free_throws</th>\n",
       "      <th>average_points_scored</th>\n",
       "    </tr>\n",
       "  </thead>\n",
       "  <tbody>\n",
       "    <tr>\n",
       "      <td>0</td>\n",
       "      <td>6.8</td>\n",
       "      <td>225</td>\n",
       "      <td>0.442</td>\n",
       "      <td>0.672</td>\n",
       "      <td>9.2</td>\n",
       "    </tr>\n",
       "    <tr>\n",
       "      <td>1</td>\n",
       "      <td>6.3</td>\n",
       "      <td>180</td>\n",
       "      <td>0.435</td>\n",
       "      <td>0.797</td>\n",
       "      <td>11.7</td>\n",
       "    </tr>\n",
       "    <tr>\n",
       "      <td>2</td>\n",
       "      <td>6.4</td>\n",
       "      <td>190</td>\n",
       "      <td>0.456</td>\n",
       "      <td>0.761</td>\n",
       "      <td>15.8</td>\n",
       "    </tr>\n",
       "    <tr>\n",
       "      <td>3</td>\n",
       "      <td>6.2</td>\n",
       "      <td>180</td>\n",
       "      <td>0.416</td>\n",
       "      <td>0.651</td>\n",
       "      <td>8.6</td>\n",
       "    </tr>\n",
       "    <tr>\n",
       "      <td>4</td>\n",
       "      <td>6.9</td>\n",
       "      <td>205</td>\n",
       "      <td>0.449</td>\n",
       "      <td>0.900</td>\n",
       "      <td>23.2</td>\n",
       "    </tr>\n",
       "  </tbody>\n",
       "</table>\n",
       "</div>"
      ],
      "text/plain": [
       "   height_in_feet  weight_in_pounds  successful_field_goals  \\\n",
       "0             6.8               225                   0.442   \n",
       "1             6.3               180                   0.435   \n",
       "2             6.4               190                   0.456   \n",
       "3             6.2               180                   0.416   \n",
       "4             6.9               205                   0.449   \n",
       "\n",
       "   percent_of_successful_free_throws  average_points_scored  \n",
       "0                              0.672                    9.2  \n",
       "1                              0.797                   11.7  \n",
       "2                              0.761                   15.8  \n",
       "3                              0.651                    8.6  \n",
       "4                              0.900                   23.2  "
      ]
     },
     "execution_count": 38,
     "metadata": {},
     "output_type": "execute_result"
    }
   ],
   "source": [
    "df = pd.read_csv(\"C:/Users/qual9/mlr09.csv\")\n",
    "df.head()"
   ]
  },
  {
   "cell_type": "code",
   "execution_count": 40,
   "metadata": {},
   "outputs": [
    {
     "data": {
      "text/plain": [
       "array([ 9.2, 11.7, 15.8,  8.6, 23.2, 27.4,  9.3, 16. ,  4.7, 12.5, 20.1,\n",
       "        9.1,  8.1,  8.6, 20.3, 25. , 19.2,  3.3, 11.2, 10.5, 10.1,  7.2,\n",
       "       13.6,  9. , 24.6, 12.6,  5.6,  8.7,  7.7, 24.1, 11.7,  7.7,  9.6,\n",
       "        7.2, 12.3,  8.9, 13.6, 11.2,  2.8,  3.2,  9.4, 11.9, 15.4,  7.4,\n",
       "       18.9,  7.9, 12.2, 11. ,  2.8, 11.8, 17.1, 11.6,  5.8,  8.3])"
      ]
     },
     "execution_count": 40,
     "metadata": {},
     "output_type": "execute_result"
    }
   ],
   "source": [
    "y = df[\"average_points_scored\"].values\n",
    "y"
   ]
  },
  {
   "cell_type": "code",
   "execution_count": 42,
   "metadata": {},
   "outputs": [
    {
     "data": {
      "text/html": [
       "<div>\n",
       "<style scoped>\n",
       "    .dataframe tbody tr th:only-of-type {\n",
       "        vertical-align: middle;\n",
       "    }\n",
       "\n",
       "    .dataframe tbody tr th {\n",
       "        vertical-align: top;\n",
       "    }\n",
       "\n",
       "    .dataframe thead th {\n",
       "        text-align: right;\n",
       "    }\n",
       "</style>\n",
       "<table border=\"1\" class=\"dataframe\">\n",
       "  <thead>\n",
       "    <tr style=\"text-align: right;\">\n",
       "      <th></th>\n",
       "      <th>height_in_feet</th>\n",
       "      <th>weight_in_pounds</th>\n",
       "      <th>successful_field_goals</th>\n",
       "      <th>percent_of_successful_free_throws</th>\n",
       "    </tr>\n",
       "  </thead>\n",
       "  <tbody>\n",
       "    <tr>\n",
       "      <td>0</td>\n",
       "      <td>6.8</td>\n",
       "      <td>225</td>\n",
       "      <td>0.442</td>\n",
       "      <td>0.672</td>\n",
       "    </tr>\n",
       "    <tr>\n",
       "      <td>1</td>\n",
       "      <td>6.3</td>\n",
       "      <td>180</td>\n",
       "      <td>0.435</td>\n",
       "      <td>0.797</td>\n",
       "    </tr>\n",
       "    <tr>\n",
       "      <td>2</td>\n",
       "      <td>6.4</td>\n",
       "      <td>190</td>\n",
       "      <td>0.456</td>\n",
       "      <td>0.761</td>\n",
       "    </tr>\n",
       "    <tr>\n",
       "      <td>3</td>\n",
       "      <td>6.2</td>\n",
       "      <td>180</td>\n",
       "      <td>0.416</td>\n",
       "      <td>0.651</td>\n",
       "    </tr>\n",
       "    <tr>\n",
       "      <td>4</td>\n",
       "      <td>6.9</td>\n",
       "      <td>205</td>\n",
       "      <td>0.449</td>\n",
       "      <td>0.900</td>\n",
       "    </tr>\n",
       "  </tbody>\n",
       "</table>\n",
       "</div>"
      ],
      "text/plain": [
       "   height_in_feet  weight_in_pounds  successful_field_goals  \\\n",
       "0             6.8               225                   0.442   \n",
       "1             6.3               180                   0.435   \n",
       "2             6.4               190                   0.456   \n",
       "3             6.2               180                   0.416   \n",
       "4             6.9               205                   0.449   \n",
       "\n",
       "   percent_of_successful_free_throws  \n",
       "0                              0.672  \n",
       "1                              0.797  \n",
       "2                              0.761  \n",
       "3                              0.651  \n",
       "4                              0.900  "
      ]
     },
     "execution_count": 42,
     "metadata": {},
     "output_type": "execute_result"
    }
   ],
   "source": [
    "df.iloc[:,:-1].head()"
   ]
  },
  {
   "cell_type": "code",
   "execution_count": 43,
   "metadata": {},
   "outputs": [],
   "source": [
    "X = df.iloc[:,:-1].values"
   ]
  },
  {
   "cell_type": "markdown",
   "metadata": {},
   "source": [
    "## Rescaled"
   ]
  },
  {
   "cell_type": "code",
   "execution_count": 45,
   "metadata": {},
   "outputs": [],
   "source": [
    "mu_X = np.mean(X, axis=0)\n",
    "std_X = np.std(X, axis=0)\n",
    "\n",
    "rescaled_X = (X-mu_X)/std_X"
   ]
  },
  {
   "cell_type": "code",
   "execution_count": 46,
   "metadata": {},
   "outputs": [
    {
     "data": {
      "text/plain": [
       "array([[ 0.46843663,  0.50336336, -0.12692668, -0.70404955],\n",
       "       [-0.63137111, -0.99746237, -0.25187012,  0.55584824],\n",
       "       [-0.41140956, -0.66394554,  0.12296022,  0.19299768],\n",
       "       [-0.85133266, -0.99746237, -0.59100234, -0.91571238],\n",
       "       [ 0.68839818, -0.1636703 , -0.00198323,  1.59400403]])"
      ]
     },
     "execution_count": 46,
     "metadata": {},
     "output_type": "execute_result"
    }
   ],
   "source": [
    "rescaled_X[:5]"
   ]
  },
  {
   "cell_type": "markdown",
   "metadata": {},
   "source": [
    "## Validation"
   ]
  },
  {
   "cell_type": "code",
   "execution_count": 48,
   "metadata": {},
   "outputs": [],
   "source": [
    "lr.fit(rescaled_X,y)"
   ]
  },
  {
   "cell_type": "code",
   "execution_count": 49,
   "metadata": {},
   "outputs": [
    {
     "data": {
      "text/plain": [
       "array([-1.67779283,  0.28359762,  2.68586629,  1.12816882])"
      ]
     },
     "execution_count": 49,
     "metadata": {},
     "output_type": "execute_result"
    }
   ],
   "source": [
    "lr.coef"
   ]
  },
  {
   "cell_type": "code",
   "execution_count": 50,
   "metadata": {},
   "outputs": [
    {
     "data": {
      "text/plain": [
       "11.790740740740738"
      ]
     },
     "execution_count": 50,
     "metadata": {},
     "output_type": "execute_result"
    }
   ],
   "source": [
    "lr.intercept"
   ]
  },
  {
   "cell_type": "code",
   "execution_count": 51,
   "metadata": {},
   "outputs": [
    {
     "data": {
      "text/plain": [
       "LinearRegression(copy_X=True, fit_intercept=True, n_jobs=None, normalize=False)"
      ]
     },
     "execution_count": 51,
     "metadata": {},
     "output_type": "execute_result"
    }
   ],
   "source": [
    "sk_lr.fit(rescaled_X, y)"
   ]
  },
  {
   "cell_type": "code",
   "execution_count": 52,
   "metadata": {},
   "outputs": [
    {
     "data": {
      "text/plain": [
       "array([-1.67779283,  0.28359762,  2.68586629,  1.12816882])"
      ]
     },
     "execution_count": 52,
     "metadata": {},
     "output_type": "execute_result"
    }
   ],
   "source": [
    "\n",
    "sk_lr.coef_"
   ]
  },
  {
   "cell_type": "code",
   "execution_count": 54,
   "metadata": {},
   "outputs": [
    {
     "data": {
      "text/plain": [
       "11.790740740740736"
      ]
     },
     "execution_count": 54,
     "metadata": {},
     "output_type": "execute_result"
    }
   ],
   "source": [
    "sk_lr.intercept_"
   ]
  },
  {
   "cell_type": "code",
   "execution_count": null,
   "metadata": {},
   "outputs": [],
   "source": []
  },
  {
   "cell_type": "code",
   "execution_count": null,
   "metadata": {},
   "outputs": [],
   "source": []
  },
  {
   "cell_type": "code",
   "execution_count": null,
   "metadata": {},
   "outputs": [],
   "source": []
  }
 ],
 "metadata": {
  "kernelspec": {
   "display_name": "Python 3",
   "language": "python",
   "name": "python3"
  },
  "language_info": {
   "codemirror_mode": {
    "name": "ipython",
    "version": 3
   },
   "file_extension": ".py",
   "mimetype": "text/x-python",
   "name": "python",
   "nbconvert_exporter": "python",
   "pygments_lexer": "ipython3",
   "version": "3.7.4"
  }
 },
 "nbformat": 4,
 "nbformat_minor": 2
}
